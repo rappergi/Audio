{
  "nbformat": 4,
  "nbformat_minor": 0,
  "metadata": {
    "colab": {
      "name": "Torrent To Google Drive Downloader",
      "provenance": [],
      "collapsed_sections": [],
      "include_colab_link": true
    },
    "kernelspec": {
      "display_name": "Python 3",
      "language": "python",
      "name": "python3"
    }
  },
  "cells": [
    {
      "cell_type": "markdown",
      "metadata": {
        "id": "view-in-github",
        "colab_type": "text"
      },
      "source": [
        "<a href=\"https://colab.research.google.com/github/rappergi/Google_Drive/blob/master/Torrent_To_Google_Drive_Downloader.ipynb\" target=\"_parent\"><img src=\"https://colab.research.google.com/assets/colab-badge.svg\" alt=\"Open In Colab\"/></a>"
      ]
    },
    {
      "cell_type": "markdown",
      "metadata": {
        "id": "aQuWDmfm9YOi",
        "colab_type": "text"
      },
      "source": [
        "# Torrent To Google Drive Downloader "
      ]
    },
    {
      "cell_type": "markdown",
      "metadata": {
        "id": "Uf90U73y9YOj",
        "colab_type": "text"
      },
      "source": [
        "### Mount Google Drive\n",
        "To stream files we need to mount Google Drive."
      ]
    },
    {
      "cell_type": "code",
      "metadata": {
        "colab_type": "code",
        "id": "oWM9l2fvtuvO",
        "colab": {}
      },
      "source": [
        "from google.colab import drive\n",
        "drive.mount('/content/drive')"
      ],
      "execution_count": null,
      "outputs": []
    },
    {
      "cell_type": "markdown",
      "metadata": {
        "id": "R_1XuuIf9YOn",
        "colab_type": "text"
      },
      "source": [
        "### Upload Your Torrent File"
      ]
    },
    {
      "cell_type": "code",
      "metadata": {
        "colab_type": "code",
        "id": "0et2A6N3udA0",
        "colab": {}
      },
      "source": [
        "from google.colab import files\n",
        "uploaded = files.upload()"
      ],
      "execution_count": null,
      "outputs": []
    },
    {
      "cell_type": "markdown",
      "metadata": {
        "id": "NaFa7M-e9YOr",
        "colab_type": "text"
      },
      "source": [
        "### Install libtorrent"
      ]
    },
    {
      "cell_type": "code",
      "metadata": {
        "colab_type": "code",
        "id": "m6hF0emftx4h",
        "colab": {}
      },
      "source": [
        "!python -m pip install --upgrade pip setuptools wheel\n",
        "!python -m pip install lbry-libtorrent\n",
        "!apt install python3-libtorrent\n"
   
      ],
      "execution_count": null,
      "outputs": []
    },
    {
      "cell_type": "markdown",
      "metadata": {
        "id": "m-a1CUP39YOu",
        "colab_type": "text"
      },
      "source": [
        "### Start Download\n",
        "Source: https://stackoverflow.com/a/5494823/7957705"
      ]
    },
    {
      "cell_type": "code",
      "metadata": {
        "colab_type": "code",
        "id": "hpz_nEUJnMZ3",
        "colab": {}
      },
      "source": [
        "import libtorrent as lt\n",
        "import time\n",
        "import sys\n",
        "\n",
        "ses = lt.session()\n",
        "ses.listen_on(6881, 6891)\n",
        "\n",
        "info = lt.torrent_info(list(uploaded.keys())[0])\n",
        "h = ses.add_torrent({\"ti\": info, \"save_path\": \"/content/drive/My Drive/Torrent\"})\n",
        "print(\"starting\", h.name())\n",
        "\n",
        "while not h.is_seed():\n",
        "    s = h.status()\n",
        "\n",
        "    state_str = [\n",
        "        \"queued\",\n",
        "        \"checking\",\n",
        "        \"downloading metadata\",\n",
        "        \"downloading\",\n",
        "        \"finished\",\n",
        "        \"seeding\",\n",
        "        \"allocating\",\n",
        "        \"checking fastresume\",\n",
        "    ]\n",
        "    print(\n",
        "        \"\\r%.2f%% complete (down: %.1f kb/s up: %.1f kB/s peers: %d) %s\"\n",
        "        % (\n",
        "            s.progress * 100,\n",
        "            s.download_rate / 1000,\n",
        "            s.upload_rate / 1000,\n",
        "            s.num_peers,\n",
        "            state_str[s.state],\n",
        "        )\n",
        "    )\n",
        "    sys.stdout.flush()\n",
        "    time.sleep(1)\n",
        "\n",
        "print(h.name(), \"complete\")"
      ],
      "execution_count": null,
      "outputs": []
    },
    {
      "cell_type": "markdown",
      "metadata": {
        "colab_type": "text",
        "id": "Yflzpw44nEfn"
      },
      "source": [
        "### Upload Your Torrent File"
      ]
    },
    {
      "cell_type": "code",
      "metadata": {
        "colab_type": "code",
        "id": "d79S7JcEnBhs",
        "colab": {}
      },
      "source": [
        "from google.colab import files\n",
        "uploaded = files.upload()"
      ],
      "execution_count": null,
      "outputs": []
    },
    {
      "cell_type": "markdown",
      "metadata": {
        "colab_type": "text",
        "id": "J29JG5NsnQbz"
      },
      "source": [
        "### Start Download\n",
        "Source: https://stackoverflow.com/a/5494823/7957705"
      ]
    },
    {
      "cell_type": "code",
      "metadata": {
        "colab_type": "code",
        "id": "DBNoYYoSuDBT",
        "colab": {}
      },
      "source": [
        "import libtorrent as lt\n",
        "import time\n",
        "import sys\n",
        "\n",
        "ses = lt.session()\n",
        "ses.listen_on(6881, 6891)\n",
        "\n",
        "info = lt.torrent_info(list(uploaded.keys())[0])\n",
        "h = ses.add_torrent({\"ti\": info, \"save_path\": \"/content/drive/My Drive/Torrent\"})\n",
        "print(\"starting\", h.name())\n",
        "\n",
        "while not h.is_seed():\n",
        "    s = h.status()\n",
        "\n",
        "    state_str = [\n",
        "        \"queued\",\n",
        "        \"checking\",\n",
        "        \"downloading metadata\",\n",
        "        \"downloading\",\n",
        "        \"finished\",\n",
        "        \"seeding\",\n",
        "        \"allocating\",\n",
        "        \"checking fastresume\",\n",
        "    ]\n",
        "    print(\n",
        "        \"\\r%.2f%% complete (down: %.1f kb/s up: %.1f kB/s peers: %d) %s\"\n",
        "        % (\n",
        "            s.progress * 100,\n",
        "            s.download_rate / 1000,\n",
        "            s.upload_rate / 1000,\n",
        "            s.num_peers,\n",
        "            state_str[s.state],\n",
        "        )\n",
        "    )\n",
        "    sys.stdout.flush()\n",
        "    time.sleep(1)\n",
        "\n",
        "print(h.name(), \"complete\")"
      ],
      "execution_count": null,
      "outputs": []
    }
  ]
}
