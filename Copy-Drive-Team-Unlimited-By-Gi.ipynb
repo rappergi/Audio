{
  "nbformat": 4,
  "nbformat_minor": 0,
  "metadata": {
    "colab": {
      "name": "Copy Drive Teamv4.3.ipynb",
      "provenance": [],
      "collapsed_sections": [],
      "include_colab_link": true
    },
    "kernelspec": {
      "name": "python3",
      "display_name": "Python 3"
    }
  },
  "cells": [
    {
      "cell_type": "markdown",
      "metadata": {
        "id": "view-in-github",
        "colab_type": "text"
      },
      "source": [
        "<a href=\"https://colab.research.google.com/github/rappergi/Google_Drive/blob/Drive_Unlimit/Copy-Drive--Team-Unlimited-By-Gi.ipynb\" target=\"_parent\"><img src=\"https://colab.research.google.com/assets/colab-badge.svg\" alt=\"Open In Colab\"/></a>"
      ]
    },
    {
      "cell_type": "markdown",
      "metadata": {
        "id": "V2w7tWhPhbTB",
        "colab_type": "text"
      },
      "source": [
        "<a href=\"https://github.com/totalleecher/Codemaster\">\n",
        "<img src=\"https://lh3.googleusercontent.com/1pw-tHjrkmMgnr63nxOQStYnpVkieXKP9-1RafDRtHBAQ65cN7GcsNKf4k0rWsB--W8d\" height=100px, align=\"left\"></a>\n",
        "\n",
        "\n",
        "\n",
        "\n",
        "\n",
        "\n",
        "\n",
        "\n",
        "\n",
        "\n",
        "\n",
        "<center><h3>Modified by <a href=\"https://t.me/RapperGi\">Eric Li - Trans : Giang IT</a></h1><h1>Copy File Từ Folder Share vào Team Drive Không Bị Giới Hạn 750GB"
      ]
    },
    {
      "cell_type": "markdown",
      "metadata": {
        "id": "Cqy3vXXOMI06",
        "colab_type": "text"
      },
      "source": [
        "### <font size=5px color=\"red\">✦ *Google Colab Sẽ Tự Động Ngắt Kết Nối Sau 90 Phút :</font>\n",
        "<p><font size=3px > Tự động chạy mã này thì cứ sau 60 phút sẽ làm mới giới hạn ngắt kết nối 90 phút. Bật chế độ \"developer-settings\" (Trong trình duyệt của bạn) Phím tắt Ctrl+Shift+I tìm đến Tab \"console\" dán dòng lệnh ở dưới rồi Enter. ( với MAC : Option+Command+I)</p><b>Sao chép code ở dưới rồi dán vào console！！Không được tắt trình duyệt web</b>"
      ]
    },
    {
      "cell_type": "markdown",
      "metadata": {
        "id": "3Z8cK8h2Avbv",
        "colab_type": "text"
      },
      "source": [
        "<code>function ClickConnect(){\n",
        "console.log(\"Working\"); \n",
        "document.querySelector(\"colab-connect-button\").click() \n",
        "}setInterval(ClickConnect,6000)</code>"
      ]
    },
    {
      "cell_type": "code",
      "metadata": {
        "id": "jtClEMAMLVHw",
        "colab_type": "code",
        "cellView": "form",
        "colab": {}
      },
      "source": [
        "#@markdown <h3>← Chạy sau khi nhập dòng lệnh để ngăn chặn ngắt kết nối giới hạn 90 Phút Của Colab</h>\n",
        "\n",
        "\n",
        "import IPython\n",
        "from google.colab import output\n",
        "\n",
        "display(IPython.display.Javascript('''\n",
        " function ClickConnect(){\n",
        "   btn = document.querySelector(\"colab-connect-button\")\n",
        "   if (btn != null){\n",
        "     console.log(\"Click colab-connect-button\"); \n",
        "     btn.click() \n",
        "     }\n",
        "   \n",
        "   btn = document.getElementById('ok')\n",
        "   if (btn != null){\n",
        "     console.log(\"Click reconnect\"); \n",
        "     btn.click() \n",
        "     }\n",
        "  }\n",
        "  \n",
        "setInterval(ClickConnect,60000)\n",
        "'''))\n",
        "\n",
        "print(\"Done.\")"
      ],
      "execution_count": null,
      "outputs": []
    },
    {
      "cell_type": "markdown",
      "metadata": {
        "colab_type": "text",
        "id": "nnK31oX-jC5p"
      },
      "source": [
        "### <img src='https://rclone.org/img/rclone-32x32.png' height=\"46\" alt=\"rclone\"/>__Autorclone__\n",
        "<font size=3px><b> ✧ Copy File Không Giới Hạn 750Gb</h6>\n"
      ]
    },
    {
      "cell_type": "code",
      "metadata": {
        "colab_type": "code",
        "cellView": "form",
        "id": "W61wx2ZLjC52",
        "colab": {}
      },
      "source": [
        "#@markdown <h3><b>←</b> Bước 1 : Cài đặt Rclone</h3>\n",
        "\n",
        "!curl https://rclone.org/install.sh | sudo bash\n",
        "###\n",
        "%cd /content/\n",
        "!git clone https://github.com/totalleecher/AutoRclone.git\n",
        "###\n",
        "%cd /content/AutoRclone\n",
        "!sudo pip3 install -r requirements.txt\n",
        "\n",
        "from IPython.display import HTML, clear_output\n",
        "clear_output()\n",
        "print(\"Successfully Installed\")"
      ],
      "execution_count": null,
      "outputs": []
    },
    {
      "cell_type": "code",
      "metadata": {
        "colab_type": "code",
        "cellView": "form",
        "id": "XbcSRo0RjC6P",
        "colab": {}
      },
      "source": [
        "#@markdown <h3><b>←</b> Bước 2 : Enable Drive Api & Tải Xuống Tệp credentials.json</h3>\n",
        "!python3 gen_sa_accounts.py --quick-setup -1\n",
        "\n",
        "from IPython.display import Image, display\n",
        "display(Image(url = \"https://s3.us-east-2.amazonaws.com/upload-icon/uploads/icons/png/4877197251571661812-512.png\"))"
      ],
      "execution_count": null,
      "outputs": []
    },
    {
      "cell_type": "code",
      "metadata": {
        "colab_type": "code",
        "cellView": "form",
        "id": "N8fETzRpjC6s",
        "colab": {}
      },
      "source": [
        "#@markdown <h3><b>←</b> Bước 3 : Upload File \"credentials.json\" Vừa Tải Xuống</h3>\n",
        "\n",
        "from google.colab import files\n",
        "uploaded = files.upload()"
      ],
      "execution_count": null,
      "outputs": []
    },
    {
      "cell_type": "code",
      "metadata": {
        "colab_type": "code",
        "cellView": "form",
        "id": "LMoXkToAjC69",
        "colab": {}
      },
      "source": [
        "#@markdown <h3><b>←</b> Bước 4 : Tạo \"Service Accounts (SA)\" Cho Project . \"Có thể bỏ qua Bước 4 & 5 nếu đã Có SA\". Nếu 100 SA Không Đủ Hãy Bỏ Qua Bước 5</h3>\n",
        "\n",
        "!python3 gen_sa_accounts.py --quick-setup -1"
      ],
      "execution_count": null,
      "outputs": []
    },
    {
      "cell_type": "code",
      "metadata": {
        "colab_type": "code",
        "cellView": "form",
        "id": "xIasBR9wZaMP",
        "colab": {}
      },
      "source": [
        "#@markdown <h3><b>←</b>Bước 5 :  Các dự án hiện tại, bạn cần tạo một \"nhập số dự án chính. Ví dụ: 5 đại diện cho tổng số 5 dự án và 500 SA，nên sử dụng googlegroups để quản lý</h3>\n",
        "\n",
        "numbers = \"1\" #@param [\"1\", \"2\", \"3\", \"4\", \"5\"]\n",
        "\n",
        "!python3 gen_sa_accounts.py --quick-setup \"$numbers\" --new-only"
      ],
      "execution_count": null,
      "outputs": []
    },
    {
      "cell_type": "markdown",
      "metadata": {
        "id": "vGIC3QKIIpfb",
        "colab_type": "text"
      },
      "source": [
        "<font size=\"4\" color=red><b>Nếu Bước 4 bị Fail,có thể bạn không có dự án nào. Bấm vào đây để mở <a href=\"https://console.developers.google.com/\" target=\"_blank\">Google Cloud Platform</a> ，Ở góc trên bên trái GoogleAPIs Nhấn chọn Select a project - Click \"New Project\" ở góc trên bên phải của cửa sổ bật lên. Sau đó nhấn CREATE. Quay lại và chạy bước thứ 4。</b></font>"
      ]
    },
    {
      "cell_type": "markdown",
      "metadata": {
        "colab_type": "text",
        "id": "eplOxOmrjC7R"
      },
      "source": [
        "### Cách 1 : (Tạo Services Account - Thêm vào Team Drive)"
      ]
    },
    {
      "cell_type": "code",
      "metadata": {
        "colab_type": "code",
        "cellView": "form",
        "id": "_-MmxPYFjC7W",
        "colab": {}
      },
      "source": [
        "#@markdown <h3><b>← Run để thêm tất cả SA vào Team Drive</b></h3>\n",
        "#@markdown </h5>Team Drive ID Có dạng (TDid) = https://drive.google.com/drive/folders/\" ID \"</code></h5>\n",
        "#@markdown <h5><b>Hãy kiên nhẫn đợi, tăng SA sẽ mất một chút thời gian</b></h5> \n",
        "import os\n",
        "TDid = \"\" #@param {type:\"string\"}\n",
        "!python3 add_to_team_drive.py -d \"$TDid\""
      ],
      "execution_count": null,
      "outputs": []
    },
    {
      "cell_type": "markdown",
      "metadata": {
        "id": "_cHHnNWPVILR",
        "colab_type": "text"
      },
      "source": [
        "### Cách 2 (Thêm SA vào Googlegroup để quản lý nhiều SA） **Giới Thiệu**"
      ]
    },
    {
      "cell_type": "code",
      "metadata": {
        "id": "m2cTTOFKX9g7",
        "colab_type": "code",
        "cellView": "form",
        "colab": {}
      },
      "source": [
        "#@markdown <h3><b>←</b>Sau khi chạy, nó sẽ tạo! Email.txt trong AutoRclone \\ Account đã tải.  Để tải xuống click vào đây để xem video hướng dẫn <a href=\"https://drive.google.com/drive/u/4/folders/1qyMiY-nHyQiUA0AESu0NddWavN5k1_Aj\" target=\"_blank\">Video 3 Google Groups</a>\n",
        "\n",
        "#@markdown *   Click vào <a href=\"https://groups.google.com/d/homeredir\" target=\"_blank\">Google groups</a> sau đó click CREATE GROUP... Đặt tên bạn muốn và nhấn CREATE . Để mở tệp <code>!emails.txt</code> - <b>Xem Video 3 Và thực hiện</b> [Giới hạn Googlegroup chỉ có thể thêm 10 SA/1 lần, chúng ta phải lặp lại 10 lần, tối đa là 100 mỗi ngày]\n",
        "#@markdown *   Thêm các nhóm Google mà bạn vừa tạo vào Drive Team dữ liệu sẽ được sao chép. Nếu bạn muốn sao chép, hãy thêm cả hai Drive Team.\n",
        "#@markdown *   Cảm ơn @Roshanconnor đã cho gợi ý。\n",
        "%cd /content/AutoRclone/accounts/\n",
        "!grep -oPh '\"client_email\": \"\\K[^\"]+' *.json > !emails.txt\n"
      ],
      "execution_count": null,
      "outputs": []
    },
    {
      "cell_type": "markdown",
      "metadata": {
        "id": "XCiA0yRMxM5T",
        "colab_type": "text"
      },
      "source": [
        "### **<font size=5px color=bule><<<<<<<<<<<<<<<<<<<<Tất Cả Đã Sẵn Sàng Để Copy File>>>>>>>>>>>>>>>>>>>>**"
      ]
    },
    {
      "cell_type": "code",
      "metadata": {
        "colab_type": "code",
        "cellView": "form",
        "id": "ItewOXbSjC7r",
        "colab": {}
      },
      "source": [
        "#@markdown <p>- <b> Thêm ID thư mục gốc （Đã được chia sẻ） và ID thư mục đích （Team Drive）</p>\n",
        "#@markdown <p>- Lưu Ý: ID thư mục gốc (*`src`*) phải là thư mục đã được chia sẻ công khai (public)</p>\n",
        "\n",
        "#@markdown <b>- ID Của Thư Mục Team Drive Sẽ Được Lấy Theo Hình Bên </b>\n",
        "#@markdown ![](https://yuju.pw/y/qNvy.png)\n",
        "\n",
        "#@title <h3><b>←</b> Run to clone all folders + files from <code>src</code> to <code>dest</code>\n",
        "\n",
        "source = \"\" #@param {type:\"string\"}\n",
        "destination = \"\" #@param {type:\"string\"}\n",
        "sa = \"\" #@param {type:\"string\"}\n",
        "\n",
        "!python3 rclone_sa_magic.py -s \"$source\" -d \"$destination\" -b \"$sa\" -e 600\n",
        "\n",
        "#@markdown <b>-  SA Mặc định là 1 . Nếu đã sao chép 7.5TB trước đó trong 24H thì nên đặt SA = 11 (1 SA = 750GB).\n",
        "\n"
      ],
      "execution_count": null,
      "outputs": []
    },
    {
      "cell_type": "markdown",
      "metadata": {
        "colab_type": "text",
        "id": "NKQKbbO5jC8f"
      },
      "source": [
        "### Các tính năng bổ sung (kiểm tra kích thước và số lượng tài nguyên)"
      ]
    },
    {
      "cell_type": "code",
      "metadata": {
        "colab_type": "code",
        "cellView": "form",
        "id": "XWWAn0uujC8j",
        "colab": {}
      },
      "source": [
        "#@markdown <h4><b>←</b> Kiểm Tra Kích Thước Folder Gốc</h3> \n",
        "!rclone --config rclone.conf size --disable ListR src001:"
      ],
      "execution_count": null,
      "outputs": []
    },
    {
      "cell_type": "code",
      "metadata": {
        "colab_type": "code",
        "cellView": "form",
        "id": "LsChZJ2FjC8y",
        "colab": {}
      },
      "source": [
        "#@markdown <h4><b>←</b> Kiểm Tra Kích Thước Folder Đích Sau Khi Copy</h3> \n",
        "!rclone --config rclone.conf size --disable ListR dst001:"
      ],
      "execution_count": null,
      "outputs": []
    },
    {
      "cell_type": "code",
      "metadata": {
        "colab_type": "code",
        "cellView": "form",
        "id": "bNcxDO0AMSkk",
        "colab": {}
      },
      "source": [
        "#@markdown <h4><b>←</b> Kiểm Tra Tệp Trùng Lặp Sau Khi Copy</h3> \n",
        "!rclone --config rclone.conf dedupe dst001:"
      ],
      "execution_count": null,
      "outputs": []
    },
    {
      "cell_type": "markdown",
      "metadata": {
        "id": "Z-0L1Mousoom",
        "colab_type": "text"
      },
      "source": [
        "###<font size=4 color=\"red\"><b><center>Khi bạn chạy nó lần đầu tiên, vui lòng sao lưu SA(backup),Lần tới, bạn chỉ cần định cấu hình môi trường ở bước 1 và 3(upload - credentials.json）Đặt Services Account giảm (restore)để khôi phục Tài khoản dịch vụ về môi trường cấu hình </center></b></font>"
      ]
    },
    {
      "cell_type": "code",
      "metadata": {
        "id": "Ws2rOO0NCyks",
        "colab_type": "code",
        "cellView": "form",
        "colab": {}
      },
      "source": [
        "#@markdown <h3>← Nhập Project ID Như Hình Và Chạy - Download Key Từ Project\n",
        "\n",
        "#@markdown ![](https://i.imgur.com/6kdw2u9.jpg)\n",
        "\n",
        "\n",
        "#@markdown <h4><b>Dán Project ID vào dưới đây:</b>\n",
        "\n",
        "projectid = \"\" #@param {type:\"string\"}\n",
        "!python3 gen_sa_accounts.py --download-keys \"$projectid\""
      ],
      "execution_count": null,
      "outputs": []
    },
    {
      "cell_type": "code",
      "metadata": {
        "id": "_1pqEmj2nR3_",
        "colab_type": "code",
        "cellView": "form",
        "colab": {}
      },
      "source": [
        "#@markdown <br><center><img src='https://upload.wikimedia.org/wikipedia/commons/thumb/d/da/Google_Drive_logo.png/600px-Google_Drive_logo.png' height=\"50\" alt=\"Gdrive logo\"/></center>\n",
        "#@markdown <center><h3>Tải bản sao lưu Google Drive và khôi phục thư mục Account trong Autoclone。</h3></center><br>\n",
        "\n",
        "from google.colab import drive\n",
        "drive.mount('/content/drive')\n",
        "\n",
        "MODE = \"RESTORE\" #@param [\"BACKUP\", \"RESTORE\"]\n",
        "#备份SA!\n",
        "if MODE == \"BACKUP\": \n",
        "  !rclone copy \"/content/AutoRclone/accounts/\" \"/content/drive/My Drive/accounts/\"\n",
        "elif MODE == \"RESTORE\":\n",
        "  !rclone copy \"/content/drive/My Drive/accounts/\" \"/content/AutoRclone/accounts/\""
      ],
      "execution_count": null,
      "outputs": []
    },
    {
      "cell_type": "markdown",
      "metadata": {
        "id": "K6yDnWXvlxfb",
        "colab_type": "text"
      },
      "source": [
        "### <font size=5px color=\"purple\"><b><center> ✧  Chuyển đổi sửa đổi ma thuật nâng cao Gclone hỗ trợ tự động chuyển đổi SA, hỗ trợ {Folder id}, theo sau là đường dẫn tiếp theo, chẳng hạn như {TeamDrive id}/media/xxx /</center></h6>"
      ]
    },
    {
      "cell_type": "code",
      "metadata": {
        "id": "TxEYMYh0hMU6",
        "colab_type": "code",
        "cellView": "form",
        "colab": {}
      },
      "source": [
        "#@title  ←  Cài đặt cấu hình môi trường Gclone\n",
        "!bash <(wget -qO- https://git.io/gclone.sh)"
      ],
      "execution_count": null,
      "outputs": []
    },
    {
      "cell_type": "code",
      "metadata": {
        "id": "2y9lJItbhbOy",
        "colab_type": "code",
        "cellView": "form",
        "colab": {}
      },
      "source": [
        "!gclone config\n",
        "\n",
        "#@markdown <p><b><h3><center> Chỉ cần cấu hình một lần đầu tiên, sau khi sao lưu, chỉ cần khôi phục bằng một cú nhấp chuột </b></center> </p>\n",
        "#@markdown <p>- Bước 1 : là chọn n, sau đó đặt cho remote một tên mới.<font color=red>\"Tên này sẽ được sử dụng khi sao chép sau \"</font> </p>\n",
        "#@markdown <p>- Bước 2 : chọn 13, client_id và client_secret không được điền theo mặc định。</p>\n",
        "#@markdown <p>- Bước 3 : chọn scope và điền vào 1, root_folder_id không được điền theo mặc định。</p>\n",
        "#@markdown <p>- Bước 4 : mở thư mục colab ở bên trái, tìm bất kỳ tệp json nào trong Autorclone / tài khoản và nhấp chuột phải vào đường dẫn sao chép. </p>Ví dụ = /content/AutoRclone/accounts/02d62cb52b2ac72d2c78c5b1b529b202ac1a1a </p>\n",
        "#@markdown <p>- Bước 5 : service_account_file_path> Điền vào /content/AutoRclone/accounts/ </p>\n",
        "#@markdown <p>- Bước 6 : Edit advanced config? (y/n) Chọn n .</p>\n",
        "#@markdown <p>- Bước 7 : Configure this as a team drive? Chọn y ."
      ],
      "execution_count": null,
      "outputs": []
    },
    {
      "cell_type": "code",
      "metadata": {
        "id": "lUyZKS7chofc",
        "colab_type": "code",
        "cellView": "form",
        "colab": {}
      },
      "source": [
        "#@markdown <h1> <p><b><center><font color=\"pink\">Bắt đầu sao chép với Gclone</center></h>\n",
        "name = \"\" #@param {type:\"string\"}\n",
        "source = \"\" #@param {type:\"string\"}\n",
        "destination = \"\" #@param {type:\"string\"}\n",
        "folder = \"\" #@param {type:\"string\"}\n",
        "cmd = f\"gclone copy {name}:{{{source}}} {name}:{{{destination}}}{folder} --drive-server-side-across-configs --transfers 30 -v\"\n",
        "!$cmd\n",
        "#@markdown <p>- name là tên của Remote trong cài đặt gclone\n",
        "#@markdown <p>- định dạng thư mục sẽ được lưu là /phim/nội địa/Bộ sưu tập Thành Long Không có khoảng trắng được cho phép..</p>\n",
        "#@markdown <p>- Nếu bạn sợ mất tập tin, hãy thực hiện nó một hoặc hai lần và tự động bỏ qua các tài nguyên hiện có。</p>"
      ],
      "execution_count": null,
      "outputs": []
    },
    {
      "cell_type": "code",
      "metadata": {
        "id": "J6UD7xAr1Mte",
        "colab_type": "code",
        "cellView": "form",
        "colab": {}
      },
      "source": [
        "#@markdown <h3><b>←</b> Kiểm tra kích thước thư mục</h3>\n",
        "name = \"\" #@param {type:\"string\"}\n",
        "id = \"\" #@param {type:\"string\"}\n",
        "cmd = f\"gclone size {name}:{{{id}}} --disable listr --transfers 10\"\n",
        "!$cmd\n",
        "#@markdown <p>- name là tên của Remote trong cài đặt gclone\n",
        "#@markdown <p>- id có thể là id thư mục nguồn được chia sẻ hoặc id thư mục đã được sao chép"
      ],
      "execution_count": null,
      "outputs": []
    },
    {
      "cell_type": "code",
      "metadata": {
        "id": "sDwfInCbMVsL",
        "colab_type": "code",
        "cellView": "form",
        "colab": {}
      },
      "source": [
        "#@markdown <h3> <p><center>Công Cụ Kiểm Tra Tệp Trùng Lặp Gclone</center></h>\n",
        "name = \"\" #@param {type:\"string\"}\n",
        "id = \"\" #@param {type:\"string\"}\n",
        "cmd = f\"gclone dedupe newest {name}:{{{id}}} --drive-server-side-across-configs --disable listr -v --tpslimit 5\"\n",
        "!$cmd\n",
        "#@markdown <p>- name là tên của Remote trong cài đặt gclone\n",
        "#@markdown <p>- id có thể là id thư mục nguồn được chia sẻ hoặc id thư mục đã được sao chép.</p>"
      ],
      "execution_count": null,
      "outputs": []
    },
    {
      "cell_type": "code",
      "metadata": {
        "id": "cy_hNQxHn-jO",
        "colab_type": "code",
        "cellView": "form",
        "colab": {}
      },
      "source": [
        "#@markdown <br><center></center>\n",
        "#@markdown <center><h3>Sao lưu và khôi phục tập tin cấu hình Gclone bằng một cú nhấp chuột <p> <font color=\"red\">Sau khi khôi phục, không cần phải config lại </font></h3></center><br>\n",
        "\n",
        "from google.colab import drive\n",
        "drive.mount('/content/drive')\n",
        "\n",
        "MODE = \"RESTORE\" #@param [\"BACKUP\", \"RESTORE\"]\n",
        "#备份SA!\n",
        "if MODE == \"BACKUP\": \n",
        "  !rclone copy \"/root/.config/rclone/rclone.conf\" \"/content/drive/My Drive/gclone/\"\n",
        "elif MODE == \"RESTORE\":\n",
        "  !rclone copy \"/content/drive/My Drive/gclone/\" \"/root/.config/rclone/\""
      ],
      "execution_count": null,
      "outputs": []
    }
  ]
}
